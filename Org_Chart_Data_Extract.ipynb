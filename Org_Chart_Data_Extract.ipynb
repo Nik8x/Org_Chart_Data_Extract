{
  "nbformat": 4,
  "nbformat_minor": 0,
  "metadata": {
    "colab": {
      "name": "Org_Chart_Data_Extract.ipynb",
      "version": "0.3.2",
      "provenance": [],
      "include_colab_link": true
    },
    "kernelspec": {
      "name": "python3",
      "display_name": "Python 3"
    }
  },
  "cells": [
    {
      "cell_type": "markdown",
      "metadata": {
        "id": "view-in-github",
        "colab_type": "text"
      },
      "source": [
        "<a href=\"https://colab.research.google.com/github/Nik8x/Org_Chart_Data_Extract/blob/master/Org_Chart_Data_Extract.ipynb\" target=\"_parent\"><img src=\"https://colab.research.google.com/assets/colab-badge.svg\" alt=\"Open In Colab\"/></a>"
      ]
    },
    {
      "cell_type": "code",
      "metadata": {
        "id": "ju-6S1LXVvL7",
        "colab_type": "code",
        "colab": {}
      },
      "source": [
        "import pandas as pd\n",
        "import numpy as np\n",
        "\n",
        "import re\n",
        "\n",
        "# !pip install minecart\n",
        "import minecart\n",
        "\n",
        "import json"
      ],
      "execution_count": 0,
      "outputs": []
    },
    {
      "cell_type": "code",
      "metadata": {
        "id": "9Lv9n9dmWZbj",
        "colab_type": "code",
        "colab": {}
      },
      "source": [
        "doc = minecart.Document(open(\"org_chart.pdf\", \"rb\"))"
      ],
      "execution_count": 0,
      "outputs": []
    },
    {
      "cell_type": "code",
      "metadata": {
        "id": "TjzLW-nsWckp",
        "colab_type": "code",
        "colab": {}
      },
      "source": [
        "def convert(i):\n",
        "  page = doc.get_page(i)\n",
        "  content = []\n",
        "  cord = []\n",
        "  for i in range(0, len(page.letterings)): \n",
        "    content.append(str(page.letterings[i])) # words and their numeric locations as a rectangular axis\n",
        "    cord.append(page.letterings[i].bbox[0]) # extracting only x axis distance from vertical axis\n",
        "    \n",
        "  listy = []\n",
        "  for i in zip(cord, content):\n",
        "    if i[0] < 500 and i[0] > 0:\n",
        "      listy.append(i)\n",
        "    else:\n",
        "      pass\n",
        "   \n",
        "  return pd.DataFrame(listy, columns = [\"xaxis\", \"content\"])"
      ],
      "execution_count": 0,
      "outputs": []
    },
    {
      "cell_type": "code",
      "metadata": {
        "id": "MZvSVURLYfSV",
        "colab_type": "code",
        "colab": {}
      },
      "source": [
        "df = pd.DataFrame()\n",
        "for i in range(0, 1):\n",
        "  try:\n",
        "    df = df.append(convert(i))\n",
        "  except:\n",
        "    print(\"error in page number \", i + 1)\n",
        "df = df.reset_index()\n",
        "df = df.drop(\"index\", axis = 1)"
      ],
      "execution_count": 0,
      "outputs": []
    },
    {
      "cell_type": "code",
      "metadata": {
        "id": "nKe9CarhY4re",
        "colab_type": "code",
        "colab": {
          "base_uri": "https://localhost:8080/",
          "height": 34
        },
        "outputId": "15f0125d-0013-484c-bd94-fb4752734e42"
      },
      "source": [
        "df1 = df.copy()\n",
        "df1.shape"
      ],
      "execution_count": 46,
      "outputs": [
        {
          "output_type": "execute_result",
          "data": {
            "text/plain": [
              "(48, 2)"
            ]
          },
          "metadata": {
            "tags": []
          },
          "execution_count": 46
        }
      ]
    },
    {
      "cell_type": "code",
      "metadata": {
        "id": "alU1g0QmZuuN",
        "colab_type": "code",
        "colab": {}
      },
      "source": [
        "# df1 = df1[df1[\"xaxis\"] ! = 92.663400][......][.....] # for excluding the xaxis which we dont want"
      ],
      "execution_count": 0,
      "outputs": []
    },
    {
      "cell_type": "code",
      "metadata": {
        "id": "_W5fHTqfXv7m",
        "colab_type": "code",
        "colab": {
          "base_uri": "https://localhost:8080/",
          "height": 380
        },
        "outputId": "363a45c7-f51b-4022-9ebf-03e68b4f6d79"
      },
      "source": [
        "df1.xaxis.value_counts()"
      ],
      "execution_count": 48,
      "outputs": [
        {
          "output_type": "execute_result",
          "data": {
            "text/plain": [
              "73.353695     8\n",
              "60.408926     4\n",
              "102.839007    4\n",
              "61.128081     4\n",
              "31.642773     4\n",
              "44.587541     4\n",
              "115.783778    4\n",
              "74.072853     4\n",
              "169.931713    1\n",
              "267.480302    1\n",
              "121.103688    1\n",
              "175.720758    1\n",
              "80.232715     1\n",
              "280.425074    1\n",
              "92.663400     1\n",
              "156.986942    1\n",
              "214.914645    1\n",
              "105.608169    1\n",
              "67.287944     1\n",
              "158.933009    1\n",
              "Name: xaxis, dtype: int64"
            ]
          },
          "metadata": {
            "tags": []
          },
          "execution_count": 48
        }
      ]
    },
    {
      "cell_type": "code",
      "metadata": {
        "id": "xHGMGko5aHfF",
        "colab_type": "code",
        "colab": {
          "base_uri": "https://localhost:8080/",
          "height": 198
        },
        "outputId": "31ce6599-03b0-41db-ea9b-03dc5172dea4"
      },
      "source": [
        "df2 = df1.copy()\n",
        "df2[\"xaxis\"] = df2[\"xaxis\"].apply(lambda x : int(x)) # converting floats to integers\n",
        "df2 = df2.reset_index().drop(\"index\", axis = 1)\n",
        "df2.head()"
      ],
      "execution_count": 49,
      "outputs": [
        {
          "output_type": "execute_result",
          "data": {
            "text/html": [
              "<div>\n",
              "<style scoped>\n",
              "    .dataframe tbody tr th:only-of-type {\n",
              "        vertical-align: middle;\n",
              "    }\n",
              "\n",
              "    .dataframe tbody tr th {\n",
              "        vertical-align: top;\n",
              "    }\n",
              "\n",
              "    .dataframe thead th {\n",
              "        text-align: right;\n",
              "    }\n",
              "</style>\n",
              "<table border=\"1\" class=\"dataframe\">\n",
              "  <thead>\n",
              "    <tr style=\"text-align: right;\">\n",
              "      <th></th>\n",
              "      <th>xaxis</th>\n",
              "      <th>content</th>\n",
              "    </tr>\n",
              "  </thead>\n",
              "  <tbody>\n",
              "    <tr>\n",
              "      <th>0</th>\n",
              "      <td>31</td>\n",
              "      <td>Mckenzie\\tGarcia</td>\n",
              "    </tr>\n",
              "    <tr>\n",
              "      <th>1</th>\n",
              "      <td>31</td>\n",
              "      <td>Gregory\\tPLC</td>\n",
              "    </tr>\n",
              "    <tr>\n",
              "      <th>2</th>\n",
              "      <td>31</td>\n",
              "      <td>728-623-3573x537</td>\n",
              "    </tr>\n",
              "    <tr>\n",
              "      <th>3</th>\n",
              "      <td>31</td>\n",
              "      <td>ewingjennifer@harris.info</td>\n",
              "    </tr>\n",
              "    <tr>\n",
              "      <th>4</th>\n",
              "      <td>60</td>\n",
              "      <td>Amy\\tW</td>\n",
              "    </tr>\n",
              "  </tbody>\n",
              "</table>\n",
              "</div>"
            ],
            "text/plain": [
              "   xaxis                    content\n",
              "0     31           Mckenzie\\tGarcia\n",
              "1     31               Gregory\\tPLC\n",
              "2     31           728-623-3573x537\n",
              "3     31  ewingjennifer@harris.info\n",
              "4     60                     Amy\\tW"
            ]
          },
          "metadata": {
            "tags": []
          },
          "execution_count": 49
        }
      ]
    },
    {
      "cell_type": "code",
      "metadata": {
        "id": "rBRMFNdEaal9",
        "colab_type": "code",
        "colab": {
          "base_uri": "https://localhost:8080/",
          "height": 380
        },
        "outputId": "470a3a3d-7d43-4c11-ac56-1417e537a2fd"
      },
      "source": [
        "df2.xaxis.value_counts()"
      ],
      "execution_count": 50,
      "outputs": [
        {
          "output_type": "execute_result",
          "data": {
            "text/plain": [
              "73     8\n",
              "61     4\n",
              "115    4\n",
              "44     4\n",
              "74     4\n",
              "102    4\n",
              "31     4\n",
              "60     4\n",
              "80     1\n",
              "169    1\n",
              "267    1\n",
              "156    1\n",
              "92     1\n",
              "214    1\n",
              "280    1\n",
              "158    1\n",
              "105    1\n",
              "175    1\n",
              "121    1\n",
              "67     1\n",
              "Name: xaxis, dtype: int64"
            ]
          },
          "metadata": {
            "tags": []
          },
          "execution_count": 50
        }
      ]
    },
    {
      "cell_type": "code",
      "metadata": {
        "id": "MkUvNgu0aeW3",
        "colab_type": "code",
        "colab": {
          "base_uri": "https://localhost:8080/",
          "height": 198
        },
        "outputId": "9867ac95-1c31-43d1-c97d-5ca8a01befec"
      },
      "source": [
        "df2.tail()"
      ],
      "execution_count": 80,
      "outputs": [
        {
          "output_type": "execute_result",
          "data": {
            "text/html": [
              "<div>\n",
              "<style scoped>\n",
              "    .dataframe tbody tr th:only-of-type {\n",
              "        vertical-align: middle;\n",
              "    }\n",
              "\n",
              "    .dataframe tbody tr th {\n",
              "        vertical-align: top;\n",
              "    }\n",
              "\n",
              "    .dataframe thead th {\n",
              "        text-align: right;\n",
              "    }\n",
              "</style>\n",
              "<table border=\"1\" class=\"dataframe\">\n",
              "  <thead>\n",
              "    <tr style=\"text-align: right;\">\n",
              "      <th></th>\n",
              "      <th>xaxis</th>\n",
              "      <th>content</th>\n",
              "    </tr>\n",
              "  </thead>\n",
              "  <tbody>\n",
              "    <tr>\n",
              "      <th>43</th>\n",
              "      <td>115</td>\n",
              "      <td>William\\tAustin</td>\n",
              "    </tr>\n",
              "    <tr>\n",
              "      <th>44</th>\n",
              "      <td>115</td>\n",
              "      <td>Smith\\tPLC</td>\n",
              "    </tr>\n",
              "    <tr>\n",
              "      <th>45</th>\n",
              "      <td>115</td>\n",
              "      <td>+1-833-502-9518</td>\n",
              "    </tr>\n",
              "    <tr>\n",
              "      <th>46</th>\n",
              "      <td>115</td>\n",
              "      <td>daviswilliam@johnson-simmons.com</td>\n",
              "    </tr>\n",
              "    <tr>\n",
              "      <th>47</th>\n",
              "      <td>280</td>\n",
              "      <td>\\t</td>\n",
              "    </tr>\n",
              "  </tbody>\n",
              "</table>\n",
              "</div>"
            ],
            "text/plain": [
              "    xaxis                           content\n",
              "43    115                   William\\tAustin\n",
              "44    115                        Smith\\tPLC\n",
              "45    115                   +1-833-502-9518\n",
              "46    115  daviswilliam@johnson-simmons.com\n",
              "47    280                                \\t"
            ]
          },
          "metadata": {
            "tags": []
          },
          "execution_count": 80
        }
      ]
    },
    {
      "cell_type": "code",
      "metadata": {
        "id": "84daSTUZKaDf",
        "colab_type": "code",
        "colab": {}
      },
      "source": [
        "axis = []\n",
        "content = []\n",
        "try:\n",
        "  \n",
        "  for i in range(len(df)):\n",
        "    \n",
        "    if df2.xaxis[i] not in axis:\n",
        "      axis.append(df2.xaxis[i])\n",
        "      content.append(df2.content[i])\n",
        "      \n",
        "    elif df2.xaxis[i] in axis:\n",
        "      \n",
        "      if df2.xaxis[i] < df2.xaxis[i - 1]:\n",
        "        axis.append(df2.xaxis[i])\n",
        "        content.append(df2.content[i])\n",
        "      \n",
        "      elif df2.xaxis[i] > df2.xaxis[i - 1]:\n",
        "        axis.append(df2.xaxis[i])\n",
        "        content.append(df2.content[i])\n",
        "      \n",
        "      elif df2.xaxis[i] == df2.xaxis[i - 1]:\n",
        "        content[-1] = content[-1] + \";\" + df2.content[i]\n",
        "      \n",
        "      else:\n",
        "        pass\n",
        "    \n",
        "    else:\n",
        "      pass\n",
        "\n",
        "except:\n",
        "  pass"
      ],
      "execution_count": 0,
      "outputs": []
    },
    {
      "cell_type": "code",
      "metadata": {
        "id": "xOc_i1XEdD8j",
        "colab_type": "code",
        "colab": {
          "base_uri": "https://localhost:8080/",
          "height": 198
        },
        "outputId": "10d2e6aa-8367-4dab-b476-92f5f420d0e6"
      },
      "source": [
        "dff = pd.DataFrame({\"xaxis\" : axis, \"content\" : content})\n",
        "dff.head()"
      ],
      "execution_count": 58,
      "outputs": [
        {
          "output_type": "execute_result",
          "data": {
            "text/html": [
              "<div>\n",
              "<style scoped>\n",
              "    .dataframe tbody tr th:only-of-type {\n",
              "        vertical-align: middle;\n",
              "    }\n",
              "\n",
              "    .dataframe tbody tr th {\n",
              "        vertical-align: top;\n",
              "    }\n",
              "\n",
              "    .dataframe thead th {\n",
              "        text-align: right;\n",
              "    }\n",
              "</style>\n",
              "<table border=\"1\" class=\"dataframe\">\n",
              "  <thead>\n",
              "    <tr style=\"text-align: right;\">\n",
              "      <th></th>\n",
              "      <th>xaxis</th>\n",
              "      <th>content</th>\n",
              "    </tr>\n",
              "  </thead>\n",
              "  <tbody>\n",
              "    <tr>\n",
              "      <th>0</th>\n",
              "      <td>31</td>\n",
              "      <td>Mckenzie\\tGarcia;Gregory\\tPLC;728-623-3573x537...</td>\n",
              "    </tr>\n",
              "    <tr>\n",
              "      <th>1</th>\n",
              "      <td>60</td>\n",
              "      <td>Amy\\tW</td>\n",
              "    </tr>\n",
              "    <tr>\n",
              "      <th>2</th>\n",
              "      <td>92</td>\n",
              "      <td>olf</td>\n",
              "    </tr>\n",
              "    <tr>\n",
              "      <th>3</th>\n",
              "      <td>60</td>\n",
              "      <td>Lopez,\\tShaw\\tand\\tJacobson;+1-186-265-9693x90...</td>\n",
              "    </tr>\n",
              "    <tr>\n",
              "      <th>4</th>\n",
              "      <td>61</td>\n",
              "      <td>Ian\\tBowen\\tMD;V</td>\n",
              "    </tr>\n",
              "  </tbody>\n",
              "</table>\n",
              "</div>"
            ],
            "text/plain": [
              "   xaxis                                            content\n",
              "0     31  Mckenzie\\tGarcia;Gregory\\tPLC;728-623-3573x537...\n",
              "1     60                                             Amy\\tW\n",
              "2     92                                                olf\n",
              "3     60  Lopez,\\tShaw\\tand\\tJacobson;+1-186-265-9693x90...\n",
              "4     61                                   Ian\\tBowen\\tMD;V"
            ]
          },
          "metadata": {
            "tags": []
          },
          "execution_count": 58
        }
      ]
    },
    {
      "cell_type": "code",
      "metadata": {
        "id": "YuenKUzgdOO0",
        "colab_type": "code",
        "colab": {}
      },
      "source": [
        "content_1 = []\n",
        "len_of_str = []\n",
        "for i in range(len(dff)):\n",
        "  x = dff[\"content\"][i]\n",
        "  if len(x) > 30:\n",
        "    y = (re.findall(r\"\"\"(?:[a-zA-Z'-]+[^a-zA-Z'-]+){0, 15}net(?:)|\n",
        "                    (?:[a-zA-Z'-]+[^a-zA-Z'-]+){0, 15}com(?:)|\n",
        "                    (?:[a-zA-Z'-]+[^a-zA-Z'-]+){0, 15}\\([0-9]{3}\\)\\s[0-9]{3}-[0-9]{4}(?:)\"\"\", x.replace(\";\", \"xzx\")))\n",
        "    z= len(x.replace(\";\", \"xzx\")) - len(\"\".join(y))\n",
        "    content_1.append(y)\n",
        "    len_of_str.append(z)\n",
        "  else:\n",
        "    content_1.append(x)\n",
        "    len_of_str.append(0)"
      ],
      "execution_count": 0,
      "outputs": []
    },
    {
      "cell_type": "code",
      "metadata": {
        "id": "fqG6m6NcfrfS",
        "colab_type": "code",
        "colab": {
          "base_uri": "https://localhost:8080/",
          "height": 198
        },
        "outputId": "184701d1-80cf-44d6-f018-01e745f15b71"
      },
      "source": [
        "# storing content_1 into dff\n",
        "dff[\"content_updated\"] = content_1\n",
        "dff[\"possible_error_in_length\"] = len_of_str\n",
        "dff.drop(\"content\", axis = 1, inplace = True)\n",
        "\n",
        "list_of_orgs = list(df2[df2.xaxis == 28].content)\n",
        "# convert list of strings to list of list in every row of content\n",
        "dff[\"content_updated_1\"] = dff.content_updated.apply(lambda x : [i.split(\"xzx\") for i in x if x not in list_of_orgs]) # to exclude the organizations name\n",
        "keys = [\"name\", \"position\", \"contact\"]\n",
        "\n",
        "# to remove empty strings \"\" from begining of list with list\n",
        "def del1(x):\n",
        "  c = []\n",
        "  for j in x:\n",
        "    if j[0] != \"\":\n",
        "      c.append(j)\n",
        "    elif j[0] == \"\":\n",
        "      c.append(j[1:])\n",
        "  return c\n",
        "dff[\"content_updated_2\"] = dff.content_updated_1.apply(lambda x : [dict(zip(keys, l)) for l in x])\n",
        "dff.head()"
      ],
      "execution_count": 62,
      "outputs": [
        {
          "output_type": "execute_result",
          "data": {
            "text/html": [
              "<div>\n",
              "<style scoped>\n",
              "    .dataframe tbody tr th:only-of-type {\n",
              "        vertical-align: middle;\n",
              "    }\n",
              "\n",
              "    .dataframe tbody tr th {\n",
              "        vertical-align: top;\n",
              "    }\n",
              "\n",
              "    .dataframe thead th {\n",
              "        text-align: right;\n",
              "    }\n",
              "</style>\n",
              "<table border=\"1\" class=\"dataframe\">\n",
              "  <thead>\n",
              "    <tr style=\"text-align: right;\">\n",
              "      <th></th>\n",
              "      <th>xaxis</th>\n",
              "      <th>content_updated</th>\n",
              "      <th>possible_error_in_length</th>\n",
              "      <th>content_updated_1</th>\n",
              "      <th>content_updated_2</th>\n",
              "    </tr>\n",
              "  </thead>\n",
              "  <tbody>\n",
              "    <tr>\n",
              "      <th>0</th>\n",
              "      <td>31</td>\n",
              "      <td>[]</td>\n",
              "      <td>76</td>\n",
              "      <td>[]</td>\n",
              "      <td>[]</td>\n",
              "    </tr>\n",
              "    <tr>\n",
              "      <th>1</th>\n",
              "      <td>60</td>\n",
              "      <td>Amy\\tW</td>\n",
              "      <td>0</td>\n",
              "      <td>[[A], [m], [y], [\\t], [W]]</td>\n",
              "      <td>[{'name': 'A'}, {'name': 'm'}, {'name': 'y'}, ...</td>\n",
              "    </tr>\n",
              "    <tr>\n",
              "      <th>2</th>\n",
              "      <td>92</td>\n",
              "      <td>olf</td>\n",
              "      <td>0</td>\n",
              "      <td>[[o], [l], [f]]</td>\n",
              "      <td>[{'name': 'o'}, {'name': 'l'}, {'name': 'f'}]</td>\n",
              "    </tr>\n",
              "    <tr>\n",
              "      <th>3</th>\n",
              "      <td>60</td>\n",
              "      <td>[]</td>\n",
              "      <td>78</td>\n",
              "      <td>[]</td>\n",
              "      <td>[]</td>\n",
              "    </tr>\n",
              "    <tr>\n",
              "      <th>4</th>\n",
              "      <td>61</td>\n",
              "      <td>Ian\\tBowen\\tMD;V</td>\n",
              "      <td>0</td>\n",
              "      <td>[[I], [a], [n], [\\t], [B], [o], [w], [e], [n],...</td>\n",
              "      <td>[{'name': 'I'}, {'name': 'a'}, {'name': 'n'}, ...</td>\n",
              "    </tr>\n",
              "  </tbody>\n",
              "</table>\n",
              "</div>"
            ],
            "text/plain": [
              "   xaxis  ...                                  content_updated_2\n",
              "0     31  ...                                                 []\n",
              "1     60  ...  [{'name': 'A'}, {'name': 'm'}, {'name': 'y'}, ...\n",
              "2     92  ...      [{'name': 'o'}, {'name': 'l'}, {'name': 'f'}]\n",
              "3     60  ...                                                 []\n",
              "4     61  ...  [{'name': 'I'}, {'name': 'a'}, {'name': 'n'}, ...\n",
              "\n",
              "[5 rows x 5 columns]"
            ]
          },
          "metadata": {
            "tags": []
          },
          "execution_count": 62
        }
      ]
    },
    {
      "cell_type": "code",
      "metadata": {
        "id": "jYFBdqzOhola",
        "colab_type": "code",
        "colab": {
          "base_uri": "https://localhost:8080/",
          "height": 198
        },
        "outputId": "5acfe1df-9048-4e21-d6ae-2973eea7b71b"
      },
      "source": [
        "dff_1 = dff.copy()\n",
        "dff_1[\"ID\"] = [int('{}{}'.format(i, j)) for i, j in zip(dff_1.xaxis, dff_1.index)] # to create unique ids\n",
        "dff_1.head()"
      ],
      "execution_count": 63,
      "outputs": [
        {
          "output_type": "execute_result",
          "data": {
            "text/html": [
              "<div>\n",
              "<style scoped>\n",
              "    .dataframe tbody tr th:only-of-type {\n",
              "        vertical-align: middle;\n",
              "    }\n",
              "\n",
              "    .dataframe tbody tr th {\n",
              "        vertical-align: top;\n",
              "    }\n",
              "\n",
              "    .dataframe thead th {\n",
              "        text-align: right;\n",
              "    }\n",
              "</style>\n",
              "<table border=\"1\" class=\"dataframe\">\n",
              "  <thead>\n",
              "    <tr style=\"text-align: right;\">\n",
              "      <th></th>\n",
              "      <th>xaxis</th>\n",
              "      <th>content_updated</th>\n",
              "      <th>possible_error_in_length</th>\n",
              "      <th>content_updated_1</th>\n",
              "      <th>content_updated_2</th>\n",
              "      <th>ID</th>\n",
              "    </tr>\n",
              "  </thead>\n",
              "  <tbody>\n",
              "    <tr>\n",
              "      <th>0</th>\n",
              "      <td>31</td>\n",
              "      <td>[]</td>\n",
              "      <td>76</td>\n",
              "      <td>[]</td>\n",
              "      <td>[]</td>\n",
              "      <td>310</td>\n",
              "    </tr>\n",
              "    <tr>\n",
              "      <th>1</th>\n",
              "      <td>60</td>\n",
              "      <td>Amy\\tW</td>\n",
              "      <td>0</td>\n",
              "      <td>[[A], [m], [y], [\\t], [W]]</td>\n",
              "      <td>[{'name': 'A'}, {'name': 'm'}, {'name': 'y'}, ...</td>\n",
              "      <td>601</td>\n",
              "    </tr>\n",
              "    <tr>\n",
              "      <th>2</th>\n",
              "      <td>92</td>\n",
              "      <td>olf</td>\n",
              "      <td>0</td>\n",
              "      <td>[[o], [l], [f]]</td>\n",
              "      <td>[{'name': 'o'}, {'name': 'l'}, {'name': 'f'}]</td>\n",
              "      <td>922</td>\n",
              "    </tr>\n",
              "    <tr>\n",
              "      <th>3</th>\n",
              "      <td>60</td>\n",
              "      <td>[]</td>\n",
              "      <td>78</td>\n",
              "      <td>[]</td>\n",
              "      <td>[]</td>\n",
              "      <td>603</td>\n",
              "    </tr>\n",
              "    <tr>\n",
              "      <th>4</th>\n",
              "      <td>61</td>\n",
              "      <td>Ian\\tBowen\\tMD;V</td>\n",
              "      <td>0</td>\n",
              "      <td>[[I], [a], [n], [\\t], [B], [o], [w], [e], [n],...</td>\n",
              "      <td>[{'name': 'I'}, {'name': 'a'}, {'name': 'n'}, ...</td>\n",
              "      <td>614</td>\n",
              "    </tr>\n",
              "  </tbody>\n",
              "</table>\n",
              "</div>"
            ],
            "text/plain": [
              "   xaxis  ...   ID\n",
              "0     31  ...  310\n",
              "1     60  ...  601\n",
              "2     92  ...  922\n",
              "3     60  ...  603\n",
              "4     61  ...  614\n",
              "\n",
              "[5 rows x 6 columns]"
            ]
          },
          "metadata": {
            "tags": []
          },
          "execution_count": 63
        }
      ]
    },
    {
      "cell_type": "code",
      "metadata": {
        "id": "qTbLj_OeiIY1",
        "colab_type": "code",
        "colab": {}
      },
      "source": [
        "# to input the names of organiztions under Cigna to empty places\n",
        "for i in list_of_orgs:\n",
        "  dff_1.loc[dff_1[\"content_updated\"] == i, \"content_updated_2\"] = i\n",
        "  dff_1.loc[dff_1[\"content_updated\"] == i, \"content_updated_1\"] = i\n",
        "  # dff_1[\"content_updated_2\"][dff_1.content_updated == i] = i"
      ],
      "execution_count": 0,
      "outputs": []
    },
    {
      "cell_type": "code",
      "metadata": {
        "id": "NkGIJGcFi94-",
        "colab_type": "code",
        "colab": {
          "base_uri": "https://localhost:8080/",
          "height": 198
        },
        "outputId": "6d7d1c35-d3f5-4d8c-fdc1-4498465affd2"
      },
      "source": [
        "dff_1.head()"
      ],
      "execution_count": 65,
      "outputs": [
        {
          "output_type": "execute_result",
          "data": {
            "text/html": [
              "<div>\n",
              "<style scoped>\n",
              "    .dataframe tbody tr th:only-of-type {\n",
              "        vertical-align: middle;\n",
              "    }\n",
              "\n",
              "    .dataframe tbody tr th {\n",
              "        vertical-align: top;\n",
              "    }\n",
              "\n",
              "    .dataframe thead th {\n",
              "        text-align: right;\n",
              "    }\n",
              "</style>\n",
              "<table border=\"1\" class=\"dataframe\">\n",
              "  <thead>\n",
              "    <tr style=\"text-align: right;\">\n",
              "      <th></th>\n",
              "      <th>xaxis</th>\n",
              "      <th>content_updated</th>\n",
              "      <th>possible_error_in_length</th>\n",
              "      <th>content_updated_1</th>\n",
              "      <th>content_updated_2</th>\n",
              "      <th>ID</th>\n",
              "    </tr>\n",
              "  </thead>\n",
              "  <tbody>\n",
              "    <tr>\n",
              "      <th>0</th>\n",
              "      <td>31</td>\n",
              "      <td>[]</td>\n",
              "      <td>76</td>\n",
              "      <td>[]</td>\n",
              "      <td>[]</td>\n",
              "      <td>310</td>\n",
              "    </tr>\n",
              "    <tr>\n",
              "      <th>1</th>\n",
              "      <td>60</td>\n",
              "      <td>Amy\\tW</td>\n",
              "      <td>0</td>\n",
              "      <td>[[A], [m], [y], [\\t], [W]]</td>\n",
              "      <td>[{'name': 'A'}, {'name': 'm'}, {'name': 'y'}, ...</td>\n",
              "      <td>601</td>\n",
              "    </tr>\n",
              "    <tr>\n",
              "      <th>2</th>\n",
              "      <td>92</td>\n",
              "      <td>olf</td>\n",
              "      <td>0</td>\n",
              "      <td>[[o], [l], [f]]</td>\n",
              "      <td>[{'name': 'o'}, {'name': 'l'}, {'name': 'f'}]</td>\n",
              "      <td>922</td>\n",
              "    </tr>\n",
              "    <tr>\n",
              "      <th>3</th>\n",
              "      <td>60</td>\n",
              "      <td>[]</td>\n",
              "      <td>78</td>\n",
              "      <td>[]</td>\n",
              "      <td>[]</td>\n",
              "      <td>603</td>\n",
              "    </tr>\n",
              "    <tr>\n",
              "      <th>4</th>\n",
              "      <td>61</td>\n",
              "      <td>Ian\\tBowen\\tMD;V</td>\n",
              "      <td>0</td>\n",
              "      <td>[[I], [a], [n], [\\t], [B], [o], [w], [e], [n],...</td>\n",
              "      <td>[{'name': 'I'}, {'name': 'a'}, {'name': 'n'}, ...</td>\n",
              "      <td>614</td>\n",
              "    </tr>\n",
              "  </tbody>\n",
              "</table>\n",
              "</div>"
            ],
            "text/plain": [
              "   xaxis  ...   ID\n",
              "0     31  ...  310\n",
              "1     60  ...  601\n",
              "2     92  ...  922\n",
              "3     60  ...  603\n",
              "4     61  ...  614\n",
              "\n",
              "[5 rows x 6 columns]"
            ]
          },
          "metadata": {
            "tags": []
          },
          "execution_count": 65
        }
      ]
    },
    {
      "cell_type": "code",
      "metadata": {
        "id": "WeBdi7Oji_sl",
        "colab_type": "code",
        "colab": {}
      },
      "source": [
        "# creating parent_ID for each row by comparing current ID(xaxis) with previous smaller ID(xaxis)\n",
        "listy = []\n",
        "for i in range(len(dff_1)):\n",
        "  try: \n",
        "    listy.append(list(dff_1[0:i].loc[dff_1.xaxis[i]].ID)[-1])\n",
        "  except:\n",
        "    listy.append(1111)\n",
        "    \n",
        "dff_1[\"parent_ID\"] = listy\n",
        "\n",
        "# len(dff_1.content_updated_2[7])\n",
        "# dff_1[\"Number_of_Boxes\"] = dff_1.content_updated_2.apply(lambda x : len(x) if type(x) is str)\n",
        "Number_of_Boxes = []\n",
        "for i in dff_1.content_updated_2:\n",
        "  if type(i) is not str:\n",
        "    Number_of_Boxes.append(len(i))\n",
        "  else:\n",
        "    Number_of_Boxes.append(0)\n",
        "    \n",
        "dff_1[\"Number_of_Boxes\"] = Number_of_Boxes"
      ],
      "execution_count": 0,
      "outputs": []
    },
    {
      "cell_type": "code",
      "metadata": {
        "id": "ThL33d5YmmDx",
        "colab_type": "code",
        "colab": {}
      },
      "source": [
        "dff_1[[\"content_updated_1\", \"ID\", \"parent_ID\", \"Number_of_Boxes\", \"possible_error_in_length\"]].to_csv(\"org_chart.csv\")"
      ],
      "execution_count": 0,
      "outputs": []
    },
    {
      "cell_type": "code",
      "metadata": {
        "id": "YXQ9dRornBil",
        "colab_type": "code",
        "colab": {
          "base_uri": "https://localhost:8080/",
          "height": 198
        },
        "outputId": "3ef7ddf2-c68c-4094-d4d2-466a4ceb43ca"
      },
      "source": [
        "dff_1[[\"content_updated_1\", \"ID\", \"parent_ID\", \"Number_of_Boxes\", \"possible_error_in_length\"]].head()"
      ],
      "execution_count": 69,
      "outputs": [
        {
          "output_type": "execute_result",
          "data": {
            "text/html": [
              "<div>\n",
              "<style scoped>\n",
              "    .dataframe tbody tr th:only-of-type {\n",
              "        vertical-align: middle;\n",
              "    }\n",
              "\n",
              "    .dataframe tbody tr th {\n",
              "        vertical-align: top;\n",
              "    }\n",
              "\n",
              "    .dataframe thead th {\n",
              "        text-align: right;\n",
              "    }\n",
              "</style>\n",
              "<table border=\"1\" class=\"dataframe\">\n",
              "  <thead>\n",
              "    <tr style=\"text-align: right;\">\n",
              "      <th></th>\n",
              "      <th>content_updated_1</th>\n",
              "      <th>ID</th>\n",
              "      <th>parent_ID</th>\n",
              "      <th>Number_of_Boxes</th>\n",
              "      <th>possible_error_in_length</th>\n",
              "    </tr>\n",
              "  </thead>\n",
              "  <tbody>\n",
              "    <tr>\n",
              "      <th>0</th>\n",
              "      <td>[]</td>\n",
              "      <td>310</td>\n",
              "      <td>1111</td>\n",
              "      <td>0</td>\n",
              "      <td>76</td>\n",
              "    </tr>\n",
              "    <tr>\n",
              "      <th>1</th>\n",
              "      <td>[[A], [m], [y], [\\t], [W]]</td>\n",
              "      <td>601</td>\n",
              "      <td>1111</td>\n",
              "      <td>5</td>\n",
              "      <td>0</td>\n",
              "    </tr>\n",
              "    <tr>\n",
              "      <th>2</th>\n",
              "      <td>[[o], [l], [f]]</td>\n",
              "      <td>922</td>\n",
              "      <td>1111</td>\n",
              "      <td>3</td>\n",
              "      <td>0</td>\n",
              "    </tr>\n",
              "    <tr>\n",
              "      <th>3</th>\n",
              "      <td>[]</td>\n",
              "      <td>603</td>\n",
              "      <td>1111</td>\n",
              "      <td>0</td>\n",
              "      <td>78</td>\n",
              "    </tr>\n",
              "    <tr>\n",
              "      <th>4</th>\n",
              "      <td>[[I], [a], [n], [\\t], [B], [o], [w], [e], [n],...</td>\n",
              "      <td>614</td>\n",
              "      <td>1111</td>\n",
              "      <td>14</td>\n",
              "      <td>0</td>\n",
              "    </tr>\n",
              "  </tbody>\n",
              "</table>\n",
              "</div>"
            ],
            "text/plain": [
              "                                   content_updated_1  ...  possible_error_in_length\n",
              "0                                                 []  ...                        76\n",
              "1                         [[A], [m], [y], [\\t], [W]]  ...                         0\n",
              "2                                    [[o], [l], [f]]  ...                         0\n",
              "3                                                 []  ...                        78\n",
              "4  [[I], [a], [n], [\\t], [B], [o], [w], [e], [n],...  ...                         0\n",
              "\n",
              "[5 rows x 5 columns]"
            ]
          },
          "metadata": {
            "tags": []
          },
          "execution_count": 69
        }
      ]
    },
    {
      "cell_type": "code",
      "metadata": {
        "id": "VKcqJADrnN3r",
        "colab_type": "code",
        "colab": {}
      },
      "source": [
        "# using recursion to get a json for a parent_ID\n",
        "def get_childrens(df, parent_id):\n",
        "  data = df[df[\"parent_ID\"] == parent_id].apply(lambda row : {\n",
        "                                                                \"ID\" : row[\"ID\"],\n",
        "                                                                \"content\" : row[\"content_updated_1\"],\n",
        "                                                                \"sub\" : []\n",
        "                                                             },\n",
        "                                                                 axis = 1)\n",
        "  data_list = list(data) if not data.empty else []\n",
        "  \n",
        "  for i, d in enumerate(data_list):\n",
        "    d[\"sub\"] = get_childrens(df, d[\"ID\"])\n",
        "  return data_list"
      ],
      "execution_count": 0,
      "outputs": []
    },
    {
      "cell_type": "code",
      "metadata": {
        "id": "WzrZ2ZSjoK0c",
        "colab_type": "code",
        "colab": {}
      },
      "source": [
        "x = json.dumps({\n",
        "                \"sub\" : get_childrens(dff_1, 1111)\n",
        "                }, indent = 2)\n",
        "y = eval(x) # converting string dictionary to dictionary\n",
        "\n",
        "with open(\"organiztion.json\", \"w\", encoding = \"utf-8\") as f:\n",
        "  json.dump(y, f, ensure_ascii = False, indent = 2)"
      ],
      "execution_count": 0,
      "outputs": []
    },
    {
      "cell_type": "code",
      "metadata": {
        "id": "xWn7_z_LoyVv",
        "colab_type": "code",
        "colab": {
          "base_uri": "https://localhost:8080/",
          "height": 138
        },
        "outputId": "be2e6e43-5425-46d7-e137-4c75fe2228ec"
      },
      "source": [
        "dff_1.possible_error_in_length.value_counts()"
      ],
      "execution_count": 73,
      "outputs": [
        {
          "output_type": "execute_result",
          "data": {
            "text/plain": [
              "0     18\n",
              "79     2\n",
              "78     2\n",
              "76     2\n",
              "40     2\n",
              "33     1\n",
              "Name: possible_error_in_length, dtype: int64"
            ]
          },
          "metadata": {
            "tags": []
          },
          "execution_count": 73
        }
      ]
    },
    {
      "cell_type": "code",
      "metadata": {
        "id": "9i41P8y0o1-o",
        "colab_type": "code",
        "colab": {
          "base_uri": "https://localhost:8080/",
          "height": 34
        },
        "outputId": "959b8952-438f-49aa-dd5c-57ce04349141"
      },
      "source": [
        "dff_1[\"content_updated_1\"][dff_1[\"possible_error_in_length\"] == 40][23]"
      ],
      "execution_count": 79,
      "outputs": [
        {
          "output_type": "execute_result",
          "data": {
            "text/plain": [
              "[]"
            ]
          },
          "metadata": {
            "tags": []
          },
          "execution_count": 79
        }
      ]
    }
  ]
}